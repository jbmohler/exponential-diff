{
 "cells": [
  {
   "cell_type": "markdown",
   "id": "aa9a8259",
   "metadata": {},
   "source": [
    "Let $i,d\\in \\mathbb{Z}$ s.t. $d>4$ and $0\\leq i<d$, then define\n",
    "$$\n",
    "k^i(x)=e^{\\mu x}\\left(M^i(x)-\\frac{1}{d}e^x\\right).\n",
    "$$\n",
    "\n",
    "Furthermore suppose that $M^i(x)$ for $0\\leq i<d$ are each others derivatives in the following way\n",
    "$$\n",
    "\\frac{d}{dx}M^i(x)=M^{i-1}(x)\n",
    "$$\n",
    "where $M^{i}$ with $i<0$ is a convenience synonym for $M^{d-i}$ (with a similar definition for $k^i$)."
   ]
  },
  {
   "cell_type": "markdown",
   "id": "0a54f102",
   "metadata": {},
   "source": [
    "It can be shown that for $n<d$\n",
    "$$\n",
    "\\frac{d^n}{dx^n} k^i(x)=\\sum_{j=0}^{n} {n\\choose j}\\mu^{n-j} k^{i-j}(x)\\textrm{.}\n",
    "$$\n",
    "A straight-forward application of the chain rule gives\n",
    "$$\n",
    "\\frac{d^n}{dx^n} k^i(\\alpha x)=\\alpha^n \\sum_{j=0}^{n} {n\\choose j}\\mu^{n-j} k^{i-j}(\\alpha x)\n",
    "$$"
   ]
  },
  {
   "cell_type": "code",
   "execution_count": 129,
   "id": "a8388212",
   "metadata": {},
   "outputs": [],
   "source": [
    "# Now, we'll assume that the k^i are shifted cosine (or sine) functions -- shifted by $2\\pi/d$\n",
    "\n",
    "SymRing = RR['alpha', 'mu']\n",
    "\n",
    "def RHS_alpha_mu(alpha, mu, theta, n, d):\n",
    "    return SR(alpha^n*sum([binomial(n, j)*mu^(n-j)*cos(theta+j*2*pi/d) for j in range(n+1)]))\n",
    "\n",
    "alpha, mu = SymRing.gens()\n",
    "\n",
    "LHS_0 = cos(0)\n",
    "RHS_0 = RHS_alpha_mu(alpha, mu, theta=0, n=4, d=13)\n",
    "\n",
    "LHS_2 = cos(pi/4)\n",
    "RHS_2 = RHS_alpha_mu(alpha, mu, theta=pi/4, n=4, d=13)"
   ]
  },
  {
   "cell_type": "code",
   "execution_count": 130,
   "id": "e48005d9",
   "metadata": {},
   "outputs": [
    {
     "data": {
      "text/plain": [
       "1.00000000000000*(0.500000000000000*sqrt(2)*mu^4 + 4.00000000000000*mu^3*cos(21/52*pi) - 6.00000000000000*mu^2*cos(23/52*pi) - 4.00000000000000*mu*cos(15/52*pi) - 1.00000000000000*cos(7/52*pi))*alpha^4"
      ]
     },
     "execution_count": 130,
     "metadata": {},
     "output_type": "execute_result"
    }
   ],
   "source": [
    "RHS_2"
   ]
  },
  {
   "cell_type": "code",
   "execution_count": 131,
   "id": "70597500",
   "metadata": {},
   "outputs": [],
   "source": [
    "vx = RHS_0.variables()\n",
    "solutions = solve([RHS_2/LHS_2==RHS_0/LHS_0], *vx)"
   ]
  },
  {
   "cell_type": "code",
   "execution_count": 132,
   "id": "224b4c29",
   "metadata": {},
   "outputs": [
    {
     "data": {
      "text/plain": [
       "4"
      ]
     },
     "execution_count": 132,
     "metadata": {},
     "output_type": "execute_result"
    }
   ],
   "source": [
    "len(solutions)"
   ]
  },
  {
   "cell_type": "code",
   "execution_count": 133,
   "id": "798b8f74",
   "metadata": {},
   "outputs": [
    {
     "name": "stdout",
     "output_type": "stream",
     "text": [
      "0\n",
      "alpha=0.000000000000000\n",
      "1\n",
      "mu=-0.420732853609442 + 1.76515842259771E-14*I\n",
      "2\n",
      "mu=-1.35017919769698 + 1.73502769561169E-14*I\n",
      "3\n",
      "mu=-0.885456025653208 - 3.51525148170242E-14*I\n"
     ]
    }
   ],
   "source": [
    "for i, sol in enumerate(solutions):\n",
    "    print(i)\n",
    "    try:\n",
    "        print(f\"{sol[0].left_hand_side()}={sol[0].right_hand_side().n()}\")\n",
    "    except:\n",
    "        pass\n",
    "    try:\n",
    "        print(f\"{sol[1].left_hand_side()}={sol[1].right_hand_side().n()}\")\n",
    "    except:\n",
    "        pass"
   ]
  },
  {
   "cell_type": "code",
   "execution_count": 122,
   "id": "8b8e18e4",
   "metadata": {},
   "outputs": [
    {
     "data": {
      "text/plain": [
       "[]"
      ]
     },
     "execution_count": 122,
     "metadata": {},
     "output_type": "execute_result"
    }
   ],
   "source": [
    "solve([LHS_0==RHS_0.subs(mu=-0.309016)], SR(alpha))"
   ]
  },
  {
   "cell_type": "code",
   "execution_count": 123,
   "id": "d0c34a87",
   "metadata": {},
   "outputs": [
    {
     "name": "stdout",
     "output_type": "stream",
     "text": [
      "1 == 1.00000000000000*alpha^4*(0.386271455290684*sqrt(5) - 0.0455936103187640)\n"
     ]
    }
   ],
   "source": [
    "print(LHS_0==RHS_0.subs(mu=-0.309016))"
   ]
  },
  {
   "cell_type": "code",
   "execution_count": 134,
   "id": "187bccbe",
   "metadata": {},
   "outputs": [
    {
     "data": {
      "text/plain": [
       "13.5202754782966"
      ]
     },
     "execution_count": 134,
     "metadata": {},
     "output_type": "execute_result"
    }
   ],
   "source": [
    "((LHS_0 / RHS_0.subs(mu=-0.88545602565) * alpha^4)^(1/4)*2*pi).n()"
   ]
  },
  {
   "cell_type": "code",
   "execution_count": 112,
   "id": "9fd60c0f",
   "metadata": {},
   "outputs": [
    {
     "data": {
      "text/plain": [
       "(1.00000000000000*alpha^4, 1)"
      ]
     },
     "execution_count": 112,
     "metadata": {},
     "output_type": "execute_result"
    }
   ],
   "source": [
    "RHS_0.subs(mu=0), LHS_0"
   ]
  },
  {
   "cell_type": "code",
   "execution_count": 97,
   "id": "1c8d7b53",
   "metadata": {},
   "outputs": [
    {
     "data": {
      "text/plain": [
       "1"
      ]
     },
     "execution_count": 97,
     "metadata": {},
     "output_type": "execute_result"
    }
   ],
   "source": [
    "LHS_0"
   ]
  },
  {
   "cell_type": "code",
   "execution_count": 98,
   "id": "ed4f0fed",
   "metadata": {},
   "outputs": [
    {
     "data": {
      "text/plain": [
       "4.44288293815837"
      ]
     },
     "execution_count": 98,
     "metadata": {},
     "output_type": "execute_result"
    }
   ],
   "source": [
    "(.25^.25*2*pi).n()"
   ]
  },
  {
   "cell_type": "code",
   "execution_count": null,
   "id": "02b12852",
   "metadata": {},
   "outputs": [],
   "source": []
  }
 ],
 "metadata": {
  "kernelspec": {
   "display_name": "SageMath 9.6",
   "language": "sage",
   "name": "sagemath"
  },
  "language_info": {
   "codemirror_mode": {
    "name": "ipython",
    "version": 3
   },
   "file_extension": ".py",
   "mimetype": "text/x-python",
   "name": "python",
   "nbconvert_exporter": "python",
   "pygments_lexer": "ipython3",
   "version": "3.11.1"
  }
 },
 "nbformat": 4,
 "nbformat_minor": 5
}
